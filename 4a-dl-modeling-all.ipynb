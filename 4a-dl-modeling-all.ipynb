{
 "cells": [
  {
   "cell_type": "code",
   "execution_count": 1,
   "metadata": {},
   "outputs": [
    {
     "name": "stderr",
     "output_type": "stream",
     "text": [
      "2023-10-16 10:35:54.342277: I tensorflow/core/platform/cpu_feature_guard.cc:182] This TensorFlow binary is optimized to use available CPU instructions in performance-critical operations.\n",
      "To enable the following instructions: AVX2 AVX512F FMA, in other operations, rebuild TensorFlow with the appropriate compiler flags.\n"
     ]
    }
   ],
   "source": [
    "import pandas as pd\n",
    "import tensorflow as tf\n",
    "from datetime import datetime\n",
    "\n",
    "from sklearn.model_selection import train_test_split\n",
    "from sklearn.preprocessing import StandardScaler\n",
    "\n",
    "from bayes_opt import BayesianOptimization\n",
    "from bayes_opt import UtilityFunction\n",
    "\n",
    "import matplotlib.pyplot as plt\n",
    "from utils.plt_setting import plt_settings\n",
    "from utils.evaluation import regression_evaluation, f_importances, plot_actual_pred\n",
    "from utils.data_manager import read_data\n",
    "\n",
    "# 한글처리 지원\n",
    "plt_settings()"
   ]
  },
  {
   "cell_type": "code",
   "execution_count": 2,
   "metadata": {},
   "outputs": [],
   "source": [
    "df_X = read_data('2a-all-scaled-X')\n",
    "df_y = read_data('2a-all-y')\n",
    "\n",
    "training_columns = df_X.columns"
   ]
  },
  {
   "cell_type": "code",
   "execution_count": 3,
   "metadata": {},
   "outputs": [],
   "source": [
    "X_train, X_test, y_train, y_test = \\\n",
    "    train_test_split(df_X, df_y, test_size=0.2)"
   ]
  },
  {
   "cell_type": "code",
   "execution_count": 4,
   "metadata": {},
   "outputs": [
    {
     "name": "stdout",
     "output_type": "stream",
     "text": [
      "Model: \"sequential\"\n",
      "_________________________________________________________________\n",
      " Layer (type)                Output Shape              Param #   \n",
      "=================================================================\n",
      " dense (Dense)               (None, 128)               19072     \n",
      "                                                                 \n",
      " dense_1 (Dense)             (None, 64)                8256      \n",
      "                                                                 \n",
      " dense_2 (Dense)             (None, 32)                2080      \n",
      "                                                                 \n",
      " dense_3 (Dense)             (None, 1)                 33        \n",
      "                                                                 \n",
      "=================================================================\n",
      "Total params: 29441 (115.00 KB)\n",
      "Trainable params: 29441 (115.00 KB)\n",
      "Non-trainable params: 0 (0.00 Byte)\n",
      "_________________________________________________________________\n"
     ]
    },
    {
     "name": "stderr",
     "output_type": "stream",
     "text": [
      "2023-10-16 10:36:00.088648: I tensorflow/core/common_runtime/gpu/gpu_device.cc:1639] Created device /job:localhost/replica:0/task:0/device:GPU:0 with 22817 MB memory:  -> device: 0, name: NVIDIA TITAN RTX, pci bus id: 0000:5e:00.0, compute capability: 7.5\n",
      "2023-10-16 10:36:00.089635: I tensorflow/core/common_runtime/gpu/gpu_device.cc:1639] Created device /job:localhost/replica:0/task:0/device:GPU:1 with 22248 MB memory:  -> device: 1, name: NVIDIA TITAN RTX, pci bus id: 0000:af:00.0, compute capability: 7.5\n"
     ]
    }
   ],
   "source": [
    "model_mlp = tf.keras.Sequential([\n",
    "    tf.keras.layers.Dense(128, activation='relu', input_shape=(X_train.shape[1:])),\n",
    "    tf.keras.layers.Dense(64, activation='relu'),\n",
    "    tf.keras.layers.Dense(32, activation='relu'),\n",
    "    tf.keras.layers.Dense(1)\n",
    "])\n",
    "model_mlp.compile(\n",
    "    optimizer='adam',\n",
    "    loss='mean_squared_error',\n",
    "    metrics=['mae']\n",
    ")\n",
    "model_mlp.summary()"
   ]
  },
  {
   "cell_type": "code",
   "execution_count": 5,
   "metadata": {},
   "outputs": [
    {
     "name": "stdout",
     "output_type": "stream",
     "text": [
      "Epoch 1/100\n"
     ]
    },
    {
     "name": "stderr",
     "output_type": "stream",
     "text": [
      "2023-10-16 10:36:03.221390: I tensorflow/compiler/xla/service/service.cc:168] XLA service 0x7f6904010d30 initialized for platform CUDA (this does not guarantee that XLA will be used). Devices:\n",
      "2023-10-16 10:36:03.221440: I tensorflow/compiler/xla/service/service.cc:176]   StreamExecutor device (0): NVIDIA TITAN RTX, Compute Capability 7.5\n",
      "2023-10-16 10:36:03.221448: I tensorflow/compiler/xla/service/service.cc:176]   StreamExecutor device (1): NVIDIA TITAN RTX, Compute Capability 7.5\n",
      "2023-10-16 10:36:03.257112: I tensorflow/compiler/mlir/tensorflow/utils/dump_mlir_util.cc:255] disabling MLIR crash reproducer, set env var `MLIR_CRASH_REPRODUCER_DIRECTORY` to enable.\n",
      "2023-10-16 10:36:03.649226: I tensorflow/compiler/xla/stream_executor/cuda/cuda_dnn.cc:432] Loaded cuDNN version 8600\n",
      "2023-10-16 10:36:03.741033: I tensorflow/tsl/platform/default/subprocess.cc:304] Start cannot spawn child process: No such file or directory\n",
      "2023-10-16 10:36:03.876428: I ./tensorflow/compiler/jit/device_compiler.h:186] Compiled cluster using XLA!  This line is logged at most once for the lifetime of the process.\n"
     ]
    },
    {
     "name": "stdout",
     "output_type": "stream",
     "text": [
      "228/228 - 6s - loss: 27213932003328.0000 - mae: 4220007.0000 - val_loss: 26723139715072.0000 - val_mae: 4208435.5000 - 6s/epoch - 27ms/step\n",
      "Epoch 2/100\n",
      "228/228 - 2s - loss: 23707833597952.0000 - mae: 3961068.0000 - val_loss: 18011484323840.0000 - val_mae: 3514034.0000 - 2s/epoch - 8ms/step\n",
      "Epoch 3/100\n",
      "228/228 - 2s - loss: 13261129908224.0000 - mae: 2836867.2500 - val_loss: 9600841547776.0000 - val_mae: 2321634.5000 - 2s/epoch - 8ms/step\n",
      "Epoch 4/100\n",
      "228/228 - 2s - loss: 8137727803392.0000 - mae: 1985589.2500 - val_loss: 6209072005120.0000 - val_mae: 1628703.5000 - 2s/epoch - 7ms/step\n",
      "Epoch 5/100\n",
      "228/228 - 2s - loss: 5446447923200.0000 - mae: 1394680.0000 - val_loss: 4541653712896.0000 - val_mae: 1258767.5000 - 2s/epoch - 8ms/step\n",
      "Epoch 6/100\n",
      "228/228 - 2s - loss: 4401842880512.0000 - mae: 1169870.3750 - val_loss: 4063230427136.0000 - val_mae: 1176873.8750 - 2s/epoch - 8ms/step\n",
      "Epoch 7/100\n",
      "228/228 - 2s - loss: 4043591122944.0000 - mae: 1114082.7500 - val_loss: 3829909159936.0000 - val_mae: 1117991.0000 - 2s/epoch - 8ms/step\n",
      "Epoch 8/100\n",
      "228/228 - 2s - loss: 3838739742720.0000 - mae: 1058283.3750 - val_loss: 3698435817472.0000 - val_mae: 1076876.8750 - 2s/epoch - 8ms/step\n",
      "Epoch 9/100\n",
      "228/228 - 2s - loss: 3694184628224.0000 - mae: 1019373.3125 - val_loss: 3568899981312.0000 - val_mae: 1040453.8125 - 2s/epoch - 7ms/step\n",
      "Epoch 10/100\n",
      "228/228 - 2s - loss: 3584791412736.0000 - mae: 988457.6250 - val_loss: 3483738046464.0000 - val_mae: 1008407.1875 - 2s/epoch - 8ms/step\n",
      "Epoch 11/100\n",
      "228/228 - 2s - loss: 3502891859968.0000 - mae: 958012.6875 - val_loss: 3408328916992.0000 - val_mae: 990180.7500 - 2s/epoch - 8ms/step\n",
      "Epoch 12/100\n",
      "228/228 - 2s - loss: 3433407709184.0000 - mae: 941605.7500 - val_loss: 3358294802432.0000 - val_mae: 968116.0000 - 2s/epoch - 8ms/step\n",
      "Epoch 13/100\n",
      "228/228 - 2s - loss: 3375103737856.0000 - mae: 923346.1875 - val_loss: 3301989941248.0000 - val_mae: 948084.0000 - 2s/epoch - 7ms/step\n",
      "Epoch 14/100\n",
      "228/228 - 2s - loss: 3323623112704.0000 - mae: 905768.2500 - val_loss: 3260089892864.0000 - val_mae: 948369.3125 - 2s/epoch - 7ms/step\n",
      "Epoch 15/100\n",
      "228/228 - 2s - loss: 3277869285376.0000 - mae: 900169.8125 - val_loss: 3217120559104.0000 - val_mae: 925144.4375 - 2s/epoch - 7ms/step\n",
      "Epoch 16/100\n",
      "228/228 - 2s - loss: 3241030713344.0000 - mae: 881063.5000 - val_loss: 3199892193280.0000 - val_mae: 934502.6875 - 2s/epoch - 7ms/step\n",
      "Epoch 17/100\n",
      "228/228 - 2s - loss: 3203003580416.0000 - mae: 878814.8750 - val_loss: 3153618272256.0000 - val_mae: 916612.7500 - 2s/epoch - 7ms/step\n",
      "Epoch 18/100\n",
      "228/228 - 2s - loss: 3171698081792.0000 - mae: 870724.6875 - val_loss: 3127990550528.0000 - val_mae: 908741.4375 - 2s/epoch - 7ms/step\n",
      "Epoch 19/100\n",
      "228/228 - 2s - loss: 3141455577088.0000 - mae: 864975.7500 - val_loss: 3105161216000.0000 - val_mae: 897567.5625 - 2s/epoch - 7ms/step\n",
      "Epoch 20/100\n",
      "228/228 - 2s - loss: 3114696179712.0000 - mae: 860420.1875 - val_loss: 3085155696640.0000 - val_mae: 885091.1250 - 2s/epoch - 7ms/step\n",
      "Epoch 21/100\n",
      "228/228 - 2s - loss: 3087485632512.0000 - mae: 853205.7500 - val_loss: 3083050418176.0000 - val_mae: 880708.1250 - 2s/epoch - 7ms/step\n",
      "Epoch 22/100\n",
      "228/228 - 2s - loss: 3067073265664.0000 - mae: 843498.2500 - val_loss: 3045062606848.0000 - val_mae: 886798.5000 - 2s/epoch - 8ms/step\n",
      "Epoch 23/100\n",
      "228/228 - 2s - loss: 3045764628480.0000 - mae: 845787.3125 - val_loss: 3026685788160.0000 - val_mae: 884356.0000 - 2s/epoch - 7ms/step\n",
      "Epoch 24/100\n",
      "228/228 - 2s - loss: 3026258493440.0000 - mae: 833008.5625 - val_loss: 3024372367360.0000 - val_mae: 882523.6250 - 2s/epoch - 7ms/step\n",
      "Epoch 25/100\n",
      "228/228 - 2s - loss: 3009265270784.0000 - mae: 840192.0000 - val_loss: 3008222461952.0000 - val_mae: 877361.1250 - 2s/epoch - 8ms/step\n",
      "Epoch 26/100\n",
      "228/228 - 2s - loss: 2991670427648.0000 - mae: 831102.3750 - val_loss: 2988276711424.0000 - val_mae: 866803.1875 - 2s/epoch - 7ms/step\n",
      "Epoch 27/100\n",
      "228/228 - 2s - loss: 2976281264128.0000 - mae: 831783.4375 - val_loss: 2981160812544.0000 - val_mae: 871325.0000 - 2s/epoch - 7ms/step\n",
      "Epoch 28/100\n",
      "228/228 - 2s - loss: 2956044009472.0000 - mae: 831351.3750 - val_loss: 2978503720960.0000 - val_mae: 845599.0625 - 2s/epoch - 7ms/step\n",
      "Epoch 29/100\n",
      "228/228 - 2s - loss: 2949146476544.0000 - mae: 820175.3750 - val_loss: 2954088415232.0000 - val_mae: 860050.1875 - 2s/epoch - 7ms/step\n",
      "Epoch 30/100\n",
      "228/228 - 2s - loss: 2934420275200.0000 - mae: 817104.7500 - val_loss: 2944364969984.0000 - val_mae: 859822.8750 - 2s/epoch - 7ms/step\n",
      "Epoch 31/100\n",
      "228/228 - 2s - loss: 2921315434496.0000 - mae: 819051.8750 - val_loss: 2950694961152.0000 - val_mae: 868205.1250 - 2s/epoch - 7ms/step\n",
      "Epoch 32/100\n",
      "228/228 - 2s - loss: 2911003213824.0000 - mae: 818449.3750 - val_loss: 2937978880000.0000 - val_mae: 860976.3125 - 2s/epoch - 7ms/step\n",
      "Epoch 33/100\n",
      "228/228 - 2s - loss: 2899844792320.0000 - mae: 815996.3750 - val_loss: 2918338002944.0000 - val_mae: 854638.6250 - 2s/epoch - 8ms/step\n",
      "Epoch 34/100\n",
      "228/228 - 2s - loss: 2890241671168.0000 - mae: 815927.3750 - val_loss: 2924137152512.0000 - val_mae: 856604.4375 - 2s/epoch - 7ms/step\n",
      "Epoch 35/100\n",
      "228/228 - 2s - loss: 2880735281152.0000 - mae: 807829.4375 - val_loss: 2918109675520.0000 - val_mae: 862092.3125 - 2s/epoch - 7ms/step\n",
      "Epoch 36/100\n",
      "228/228 - 2s - loss: 2871393255424.0000 - mae: 808410.3750 - val_loss: 2923618107392.0000 - val_mae: 872749.4375 - 2s/epoch - 7ms/step\n",
      "Epoch 37/100\n",
      "228/228 - 2s - loss: 2862953529344.0000 - mae: 816462.5000 - val_loss: 2918879592448.0000 - val_mae: 839558.4375 - 2s/epoch - 7ms/step\n",
      "Epoch 38/100\n",
      "228/228 - 2s - loss: 2856591294464.0000 - mae: 803908.3125 - val_loss: 2906954661888.0000 - val_mae: 851120.0000 - 2s/epoch - 8ms/step\n",
      "Epoch 39/100\n",
      "228/228 - 2s - loss: 2848753713152.0000 - mae: 806365.1250 - val_loss: 2892221644800.0000 - val_mae: 848418.6875 - 2s/epoch - 7ms/step\n",
      "Epoch 40/100\n",
      "228/228 - 2s - loss: 2840778244096.0000 - mae: 804447.1250 - val_loss: 2900920893440.0000 - val_mae: 849308.5000 - 2s/epoch - 7ms/step\n",
      "Epoch 41/100\n",
      "228/228 - 1s - loss: 2832956915712.0000 - mae: 804069.8125 - val_loss: 2892847382528.0000 - val_mae: 851559.0000 - 1s/epoch - 6ms/step\n",
      "Epoch 42/100\n",
      "228/228 - 2s - loss: 2826862854144.0000 - mae: 802147.3125 - val_loss: 2891186962432.0000 - val_mae: 852269.1875 - 2s/epoch - 7ms/step\n",
      "Epoch 43/100\n",
      "228/228 - 2s - loss: 2821109317632.0000 - mae: 801610.5625 - val_loss: 2886087475200.0000 - val_mae: 848830.1250 - 2s/epoch - 7ms/step\n",
      "Epoch 44/100\n",
      "228/228 - 2s - loss: 2812118302720.0000 - mae: 806636.6250 - val_loss: 2898603802624.0000 - val_mae: 835427.6875 - 2s/epoch - 7ms/step\n",
      "Epoch 45/100\n",
      "228/228 - 2s - loss: 2810114211840.0000 - mae: 799407.0000 - val_loss: 2887284162560.0000 - val_mae: 836083.1250 - 2s/epoch - 7ms/step\n",
      "Epoch 46/100\n",
      "228/228 - 2s - loss: 2800963551232.0000 - mae: 793304.5625 - val_loss: 2881218936832.0000 - val_mae: 852957.0000 - 2s/epoch - 7ms/step\n",
      "Epoch 47/100\n",
      "228/228 - 2s - loss: 2795844665344.0000 - mae: 799403.3750 - val_loss: 2886527614976.0000 - val_mae: 854777.1250 - 2s/epoch - 8ms/step\n",
      "Epoch 48/100\n",
      "228/228 - 2s - loss: 2791572504576.0000 - mae: 801763.6875 - val_loss: 2870283075584.0000 - val_mae: 837589.0625 - 2s/epoch - 8ms/step\n",
      "Epoch 49/100\n",
      "228/228 - 2s - loss: 2787229827072.0000 - mae: 796610.0000 - val_loss: 2873697239040.0000 - val_mae: 850571.1250 - 2s/epoch - 8ms/step\n",
      "Epoch 50/100\n",
      "228/228 - 2s - loss: 2780118908928.0000 - mae: 800071.5625 - val_loss: 2872596758528.0000 - val_mae: 831791.4375 - 2s/epoch - 7ms/step\n",
      "Epoch 51/100\n",
      "228/228 - 2s - loss: 2781562011648.0000 - mae: 795410.9375 - val_loss: 2862806990848.0000 - val_mae: 843512.0625 - 2s/epoch - 8ms/step\n",
      "Epoch 52/100\n",
      "228/228 - 2s - loss: 2774878388224.0000 - mae: 794435.5625 - val_loss: 2864228073472.0000 - val_mae: 847385.9375 - 2s/epoch - 7ms/step\n",
      "Epoch 53/100\n",
      "228/228 - 2s - loss: 2768191881216.0000 - mae: 793166.3750 - val_loss: 2866231640064.0000 - val_mae: 847119.3750 - 2s/epoch - 8ms/step\n",
      "Epoch 54/100\n",
      "228/228 - 2s - loss: 2765368590336.0000 - mae: 796553.6875 - val_loss: 2856588673024.0000 - val_mae: 832508.6875 - 2s/epoch - 7ms/step\n",
      "Epoch 55/100\n",
      "228/228 - 2s - loss: 2761054486528.0000 - mae: 791210.6250 - val_loss: 2858087088128.0000 - val_mae: 844191.8750 - 2s/epoch - 8ms/step\n",
      "Epoch 56/100\n",
      "228/228 - 2s - loss: 2756937777152.0000 - mae: 792210.1875 - val_loss: 2861383548928.0000 - val_mae: 849539.0625 - 2s/epoch - 7ms/step\n",
      "Epoch 57/100\n",
      "228/228 - 2s - loss: 2752547389440.0000 - mae: 795976.6250 - val_loss: 2868288159744.0000 - val_mae: 842826.1250 - 2s/epoch - 8ms/step\n",
      "Epoch 58/100\n",
      "228/228 - 2s - loss: 2750567677952.0000 - mae: 789049.0625 - val_loss: 2868958724096.0000 - val_mae: 861587.9375 - 2s/epoch - 8ms/step\n",
      "Epoch 59/100\n",
      "228/228 - 2s - loss: 2745395576832.0000 - mae: 791444.1875 - val_loss: 2871888707584.0000 - val_mae: 849250.5000 - 2s/epoch - 8ms/step\n",
      "Epoch 60/100\n",
      "228/228 - 2s - loss: 2742020734976.0000 - mae: 789714.3125 - val_loss: 2870338125824.0000 - val_mae: 856663.1875 - 2s/epoch - 8ms/step\n",
      "Epoch 61/100\n",
      "228/228 - 2s - loss: 2740058062848.0000 - mae: 794821.1250 - val_loss: 2864603201536.0000 - val_mae: 843067.6875 - 2s/epoch - 8ms/step\n",
      "Epoch 62/100\n",
      "228/228 - 2s - loss: 2734903001088.0000 - mae: 790866.7500 - val_loss: 2859456266240.0000 - val_mae: 828620.6250 - 2s/epoch - 7ms/step\n",
      "Epoch 63/100\n",
      "228/228 - 2s - loss: 2732777275392.0000 - mae: 784300.8750 - val_loss: 2855688994816.0000 - val_mae: 848501.6875 - 2s/epoch - 7ms/step\n",
      "Epoch 64/100\n",
      "228/228 - 2s - loss: 2729079734272.0000 - mae: 787838.3125 - val_loss: 2851730358272.0000 - val_mae: 851473.5000 - 2s/epoch - 7ms/step\n",
      "Epoch 65/100\n",
      "228/228 - 2s - loss: 2724671520768.0000 - mae: 795573.8125 - val_loss: 2859449712640.0000 - val_mae: 839154.0625 - 2s/epoch - 8ms/step\n",
      "Epoch 66/100\n",
      "228/228 - 2s - loss: 2721230356480.0000 - mae: 786830.6250 - val_loss: 2857055551488.0000 - val_mae: 835874.5625 - 2s/epoch - 8ms/step\n",
      "Epoch 67/100\n",
      "228/228 - 2s - loss: 2722489171968.0000 - mae: 783192.7500 - val_loss: 2844437774336.0000 - val_mae: 850098.0625 - 2s/epoch - 8ms/step\n",
      "Epoch 68/100\n",
      "228/228 - 2s - loss: 2716666429440.0000 - mae: 790412.7500 - val_loss: 2840201527296.0000 - val_mae: 834874.8125 - 2s/epoch - 8ms/step\n",
      "Epoch 69/100\n",
      "228/228 - 2s - loss: 2713695289344.0000 - mae: 783207.2500 - val_loss: 2854747635712.0000 - val_mae: 847150.3750 - 2s/epoch - 8ms/step\n",
      "Epoch 70/100\n",
      "228/228 - 2s - loss: 2710772383744.0000 - mae: 788329.6250 - val_loss: 2845582819328.0000 - val_mae: 847320.8125 - 2s/epoch - 8ms/step\n",
      "Epoch 71/100\n",
      "228/228 - 2s - loss: 2709140275200.0000 - mae: 784034.0625 - val_loss: 2849269350400.0000 - val_mae: 852030.1875 - 2s/epoch - 8ms/step\n",
      "Epoch 72/100\n",
      "228/228 - 2s - loss: 2708061290496.0000 - mae: 784520.3125 - val_loss: 2848007913472.0000 - val_mae: 835306.4375 - 2s/epoch - 8ms/step\n",
      "Epoch 73/100\n",
      "228/228 - 2s - loss: 2705360158720.0000 - mae: 789068.1875 - val_loss: 2840754126848.0000 - val_mae: 833580.3125 - 2s/epoch - 7ms/step\n",
      "Epoch 74/100\n",
      "228/228 - 2s - loss: 2699788288000.0000 - mae: 777363.7500 - val_loss: 2846257315840.0000 - val_mae: 852768.1250 - 2s/epoch - 7ms/step\n",
      "Epoch 75/100\n",
      "228/228 - 2s - loss: 2700196708352.0000 - mae: 787933.0625 - val_loss: 2837466316800.0000 - val_mae: 840127.9375 - 2s/epoch - 7ms/step\n",
      "Epoch 76/100\n",
      "228/228 - 2s - loss: 2698187112448.0000 - mae: 783948.9375 - val_loss: 2840669978624.0000 - val_mae: 846271.7500 - 2s/epoch - 8ms/step\n",
      "Epoch 77/100\n",
      "228/228 - 2s - loss: 2696595374080.0000 - mae: 785628.5000 - val_loss: 2848235978752.0000 - val_mae: 838808.9375 - 2s/epoch - 7ms/step\n",
      "Epoch 78/100\n",
      "228/228 - 2s - loss: 2694653673472.0000 - mae: 776830.8125 - val_loss: 2853294833664.0000 - val_mae: 858496.1875 - 2s/epoch - 8ms/step\n",
      "Epoch 79/100\n",
      "228/228 - 2s - loss: 2692215734272.0000 - mae: 785165.0000 - val_loss: 2843387363328.0000 - val_mae: 845006.7500 - 2s/epoch - 7ms/step\n",
      "Epoch 80/100\n",
      "228/228 - 2s - loss: 2690340880384.0000 - mae: 784299.3750 - val_loss: 2830865268736.0000 - val_mae: 844362.5625 - 2s/epoch - 7ms/step\n",
      "Epoch 81/100\n",
      "228/228 - 2s - loss: 2688779812864.0000 - mae: 779641.7500 - val_loss: 2848238338048.0000 - val_mae: 854438.3750 - 2s/epoch - 7ms/step\n",
      "Epoch 82/100\n",
      "228/228 - 2s - loss: 2687094226944.0000 - mae: 782862.4375 - val_loss: 2852058824704.0000 - val_mae: 854140.5000 - 2s/epoch - 8ms/step\n",
      "Epoch 83/100\n",
      "228/228 - 2s - loss: 2685661609984.0000 - mae: 785612.5000 - val_loss: 2829718913024.0000 - val_mae: 832715.2500 - 2s/epoch - 7ms/step\n",
      "Epoch 84/100\n",
      "228/228 - 2s - loss: 2681854754816.0000 - mae: 775753.6875 - val_loss: 2835921764352.0000 - val_mae: 845870.8750 - 2s/epoch - 7ms/step\n",
      "Epoch 85/100\n",
      "228/228 - 2s - loss: 2682941079552.0000 - mae: 786579.8125 - val_loss: 2843924758528.0000 - val_mae: 853219.5625 - 2s/epoch - 8ms/step\n",
      "Epoch 86/100\n",
      "228/228 - 2s - loss: 2678467067904.0000 - mae: 776437.0625 - val_loss: 2846341726208.0000 - val_mae: 858040.3125 - 2s/epoch - 8ms/step\n",
      "Epoch 87/100\n",
      "228/228 - 2s - loss: 2678282780672.0000 - mae: 784272.9375 - val_loss: 2829924171776.0000 - val_mae: 838680.7500 - 2s/epoch - 8ms/step\n",
      "Epoch 88/100\n",
      "228/228 - 2s - loss: 2675357253632.0000 - mae: 774273.7500 - val_loss: 2837180841984.0000 - val_mae: 860309.4375 - 2s/epoch - 7ms/step\n",
      "Epoch 89/100\n",
      "228/228 - 2s - loss: 2674551947264.0000 - mae: 788790.5625 - val_loss: 2824817868800.0000 - val_mae: 835194.0000 - 2s/epoch - 8ms/step\n",
      "Epoch 90/100\n",
      "228/228 - 2s - loss: 2674297929728.0000 - mae: 779388.9375 - val_loss: 2837200240640.0000 - val_mae: 839074.8750 - 2s/epoch - 8ms/step\n",
      "Epoch 91/100\n",
      "228/228 - 2s - loss: 2672688627712.0000 - mae: 776367.5000 - val_loss: 2830677573632.0000 - val_mae: 845400.3125 - 2s/epoch - 8ms/step\n",
      "Epoch 92/100\n",
      "228/228 - 2s - loss: 2669982777344.0000 - mae: 781515.0000 - val_loss: 2828615286784.0000 - val_mae: 834451.1250 - 2s/epoch - 7ms/step\n",
      "Epoch 93/100\n",
      "228/228 - 2s - loss: 2670070071296.0000 - mae: 776707.8750 - val_loss: 2830659747840.0000 - val_mae: 839510.1875 - 2s/epoch - 8ms/step\n",
      "Epoch 94/100\n",
      "228/228 - 2s - loss: 2665433530368.0000 - mae: 773676.7500 - val_loss: 2851421814784.0000 - val_mae: 875460.9375 - 2s/epoch - 7ms/step\n",
      "Epoch 95/100\n",
      "228/228 - 2s - loss: 2669179305984.0000 - mae: 786746.5625 - val_loss: 2836530987008.0000 - val_mae: 841072.5000 - 2s/epoch - 8ms/step\n",
      "Epoch 96/100\n",
      "228/228 - 2s - loss: 2664201715712.0000 - mae: 776860.7500 - val_loss: 2831129772032.0000 - val_mae: 835171.0000 - 2s/epoch - 8ms/step\n",
      "Epoch 97/100\n",
      "228/228 - 2s - loss: 2659106684928.0000 - mae: 777661.2500 - val_loss: 2842684817408.0000 - val_mae: 855546.8125 - 2s/epoch - 8ms/step\n",
      "Epoch 98/100\n",
      "228/228 - 2s - loss: 2661746999296.0000 - mae: 779617.6875 - val_loss: 2835760021504.0000 - val_mae: 844499.4375 - 2s/epoch - 8ms/step\n",
      "Epoch 99/100\n",
      "228/228 - 2s - loss: 2660828708864.0000 - mae: 777403.8125 - val_loss: 2836215365632.0000 - val_mae: 843594.6875 - 2s/epoch - 7ms/step\n",
      "Epoch 100/100\n",
      "228/228 - 2s - loss: 2657849180160.0000 - mae: 777527.3125 - val_loss: 2826493755392.0000 - val_mae: 838795.3125 - 2s/epoch - 7ms/step\n"
     ]
    }
   ],
   "source": [
    "history = model_mlp.fit(\n",
    "    X_train, y_train, \n",
    "    epochs=100, verbose=2, validation_split=0.2\n",
    ")"
   ]
  },
  {
   "cell_type": "code",
   "execution_count": 6,
   "metadata": {},
   "outputs": [
    {
     "data": {
      "text/plain": [
       "[3765189214208.0, 879287.5625]"
      ]
     },
     "execution_count": 6,
     "metadata": {},
     "output_type": "execute_result"
    }
   ],
   "source": [
    "model_mlp.evaluate(X_test, y_test, verbose=0)"
   ]
  },
  {
   "cell_type": "code",
   "execution_count": 7,
   "metadata": {},
   "outputs": [
    {
     "name": "stdout",
     "output_type": "stream",
     "text": [
      "R2_SCORE: 0.610194, MAPE: 17.936297, MSE: 3765189087883.048828, RMSE: 1940409.515510, MAE: 879287.690628\n"
     ]
    }
   ],
   "source": [
    "pred_mlp = model_mlp.predict(X_test, verbose=0)\n",
    "_ = regression_evaluation(y_test, pred_mlp)"
   ]
  },
  {
   "cell_type": "code",
   "execution_count": 8,
   "metadata": {},
   "outputs": [
    {
     "data": {
      "image/png": "[encoded data removed]",
      "text/plain": [
       "<Figure size 640x480 with 1 Axes>"
      ]
     },
     "metadata": {},
     "output_type": "display_data"
    }
   ],
   "source": [
    "loss = history.history['loss']\n",
    "val_loss = history.history['val_loss']\n",
    "\n",
    "# loss와 val_loss 값을 그래프로 그립니다.\n",
    "epochs_range = range(1, len(loss) + 1)\n",
    "plt.plot(epochs_range, loss, label='Training Loss')\n",
    "plt.plot(epochs_range, val_loss, label='Validation Loss')\n",
    "plt.xlabel('Epochs')\n",
    "plt.ylabel('Loss')\n",
    "plt.legend()\n",
    "plt.show()"
   ]
  },
  {
   "cell_type": "code",
   "execution_count": null,
   "metadata": {},
   "outputs": [],
   "source": []
  }
 ],
 "metadata": {
  "kernelspec": {
   "display_name": "t213p310",
   "language": "python",
   "name": "python3"
  },
  "language_info": {
   "codemirror_mode": {
    "name": "ipython",
    "version": 3
   },
   "file_extension": ".py",
   "mimetype": "text/x-python",
   "name": "python",
   "nbconvert_exporter": "python",
   "pygments_lexer": "ipython3",
   "version": "3.10.12"
  },
  "orig_nbformat": 4
 },
 "nbformat": 4,
 "nbformat_minor": 2
}
